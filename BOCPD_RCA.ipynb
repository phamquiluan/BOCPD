{
 "cells": [
  {
   "cell_type": "code",
   "execution_count": 21,
   "metadata": {
    "ExecuteTime": {
     "end_time": "2021-11-26T16:06:14.135806Z",
     "start_time": "2021-11-26T16:06:13.243942Z"
    }
   },
   "outputs": [
    {
     "name": "stdout",
     "output_type": "stream",
     "text": [
      "The autoreload extension is already loaded. To reload it, use:\n",
      "  %reload_ext autoreload\n"
     ]
    }
   ],
   "source": [
    "from __future__ import division\n",
    "import matplotlib.pyplot as plt\n",
    "import bayesian_changepoint_detection.generate_data as gd\n",
    "import seaborn\n",
    "import pandas as pd\n",
    "import numpy as np\n",
    "from functools import partial\n",
    "import matplotlib.cm as cm\n",
    "import numpy as np\n",
    "import json\n",
    "import os\n",
    "import glob\n",
    "from os.path import basename,join,dirname\n",
    "from datetime import datetime\n",
    "import numpy as np\n",
    "from scipy.stats import multivariate_normal, norm\n",
    "from tqdm import tqdm\n",
    "from bayesian_changepoint_detection.priors import const_prior\n",
    "from bayesian_changepoint_detection.offline_likelihoods import IndepentFeaturesLikelihood\n",
    "import bayesian_changepoint_detection.online_likelihoods as online_ll\n",
    "from bayesian_changepoint_detection.bayesian_models import offline_changepoint_detection \n",
    "from bayesian_changepoint_detection.bayesian_models import online_changepoint_detection\n",
    "from functools import partial\n",
    "from bayesian_changepoint_detection.hazard_functions import constant_hazard\n",
    "\n",
    "%matplotlib inline\n",
    "%load_ext autoreload\n",
    "%autoreload 2\n",
    "\n",
    "def drop_time(df: pd.DataFrame):\n",
    "    if \"time\" in df:\n",
    "        df = df.drop(columns=[\"time\"])\n",
    "    elif \"Time\" in df:\n",
    "        df = df.drop(columns=[\"Time\"])\n",
    "    return df\n",
    "def drop_constant(df: pd.DataFrame):\n",
    "    return df.loc[:, (df != df.iloc[0]).any()]\n"
   ]
  },
  {
   "cell_type": "code",
   "execution_count": 22,
   "metadata": {
    "ExecuteTime": {
     "end_time": "2021-11-26T16:07:28.664794Z",
     "start_time": "2021-11-26T16:07:27.889503Z"
    }
   },
   "outputs": [],
   "source": [
    "\n",
    "\n",
    "def bocpd_rca(data):\n",
    "    sparsity = 5 \n",
    "    epsilon = 1e-7\n",
    "    \n",
    "    data = drop_constant(drop_time(data))\n",
    "    data = data.fillna(method=\"ffill\")\n",
    "    data = data.fillna(0)\n",
    "    for c in data.columns:\n",
    "        data[c] = (data[c] - np.min(data[c])) / (np.max(data[c]) - np.min(data[c]))\n",
    "    data = data.fillna(method=\"ffill\")\n",
    "    data = data.fillna(0)\n",
    "    \n",
    "    scores = []\n",
    "    for c in data.columns:\n",
    "        # take from this: https://github.com/hildensia/bayesian_changepoint_detection/blob/master/Example_Code.ipynb\n",
    "        R, maxes = online_changepoint_detection(\n",
    "            data[c],\n",
    "            partial(constant_hazard, 50),\n",
    "            online_ll.StudentT(alpha=0.1, beta=.01, kappa=1, mu=0)\n",
    "        )\n",
    "        Nw=10\n",
    "        out = R[Nw,Nw:-1].tolist()\n",
    "        for i in range(50):\n",
    "            out[i] = 0\n",
    "        scores.append((c, max(out)))\n",
    "    return scores\n"
   ]
  },
  {
   "cell_type": "code",
   "execution_count": 30,
   "metadata": {},
   "outputs": [
    {
     "name": "stderr",
     "output_type": "stream",
     "text": [
      " 45%|████▌     | 9/20 [02:11<02:40, 14.57s/it]\n"
     ]
    },
    {
     "ename": "KeyboardInterrupt",
     "evalue": "",
     "output_type": "error",
     "traceback": [
      "\u001b[0;31m---------------------------------------------------------------------------\u001b[0m",
      "\u001b[0;31mKeyboardInterrupt\u001b[0m                         Traceback (most recent call last)",
      "Cell \u001b[0;32mIn[30], line 6\u001b[0m\n\u001b[1;32m      3\u001b[0m case_idx \u001b[39m=\u001b[39m basename(dirname(data_path))\n\u001b[1;32m      5\u001b[0m data \u001b[39m=\u001b[39m pd\u001b[39m.\u001b[39mread_csv(data_path)   \n\u001b[0;32m----> 6\u001b[0m scores \u001b[39m=\u001b[39m bocpd_rca(data)\n\u001b[1;32m      8\u001b[0m \u001b[39mwith\u001b[39;00m \u001b[39mopen\u001b[39m(join(\u001b[39m\"\u001b[39m\u001b[39mdebug\u001b[39m\u001b[39m\"\u001b[39m, \u001b[39mf\u001b[39m\u001b[39m\"\u001b[39m\u001b[39m{\u001b[39;00mservice_metric\u001b[39m}\u001b[39;00m\u001b[39m_\u001b[39m\u001b[39m{\u001b[39;00mcase_idx\u001b[39m}\u001b[39;00m\u001b[39m.json\u001b[39m\u001b[39m\"\u001b[39m), \u001b[39m\"\u001b[39m\u001b[39mw\u001b[39m\u001b[39m\"\u001b[39m) \u001b[39mas\u001b[39;00m f:\n\u001b[1;32m      9\u001b[0m     f\u001b[39m.\u001b[39mwrite(json\u001b[39m.\u001b[39mdumps(scores))\n",
      "Cell \u001b[0;32mIn[22], line 16\u001b[0m, in \u001b[0;36mbocpd_rca\u001b[0;34m(data)\u001b[0m\n\u001b[1;32m     13\u001b[0m scores \u001b[39m=\u001b[39m []\n\u001b[1;32m     14\u001b[0m \u001b[39mfor\u001b[39;00m c \u001b[39min\u001b[39;00m data\u001b[39m.\u001b[39mcolumns:\n\u001b[1;32m     15\u001b[0m     \u001b[39m# take from this: https://github.com/hildensia/bayesian_changepoint_detection/blob/master/Example_Code.ipynb\u001b[39;00m\n\u001b[0;32m---> 16\u001b[0m     R, maxes \u001b[39m=\u001b[39m online_changepoint_detection(\n\u001b[1;32m     17\u001b[0m         data[c],\n\u001b[1;32m     18\u001b[0m         partial(constant_hazard, \u001b[39m50\u001b[39;49m),\n\u001b[1;32m     19\u001b[0m         online_ll\u001b[39m.\u001b[39;49mStudentT(alpha\u001b[39m=\u001b[39;49m\u001b[39m0.1\u001b[39;49m, beta\u001b[39m=\u001b[39;49m\u001b[39m.01\u001b[39;49m, kappa\u001b[39m=\u001b[39;49m\u001b[39m1\u001b[39;49m, mu\u001b[39m=\u001b[39;49m\u001b[39m0\u001b[39;49m)\n\u001b[1;32m     20\u001b[0m     )\n\u001b[1;32m     21\u001b[0m     Nw\u001b[39m=\u001b[39m\u001b[39m10\u001b[39m\n\u001b[1;32m     22\u001b[0m     out \u001b[39m=\u001b[39m R[Nw,Nw:\u001b[39m-\u001b[39m\u001b[39m1\u001b[39m]\u001b[39m.\u001b[39mtolist()\n",
      "File \u001b[0;32m~/ws/BOCPD/bayesian_changepoint_detection/bayesian_models.py:134\u001b[0m, in \u001b[0;36monline_changepoint_detection\u001b[0;34m(data, hazard_function, log_likelihood_class)\u001b[0m\n\u001b[1;32m    131\u001b[0m     \u001b[39m# Update the parameter sets for each possible run length.\u001b[39;00m\n\u001b[1;32m    132\u001b[0m     log_likelihood_class\u001b[39m.\u001b[39mupdate_theta(x, t\u001b[39m=\u001b[39mt)\n\u001b[0;32m--> 134\u001b[0m     maxes[t] \u001b[39m=\u001b[39m R[:, t]\u001b[39m.\u001b[39;49margmax()\n\u001b[1;32m    136\u001b[0m \u001b[39mreturn\u001b[39;00m R, maxes\n",
      "\u001b[0;31mKeyboardInterrupt\u001b[0m: "
     ]
    }
   ],
   "source": [
    "for data_path in tqdm(glob.glob(\"../cfm/data/fse-ss/**/1/simple_data.csv\")):\n",
    "    service_metric = basename(dirname(dirname(data_path)))\n",
    "    case_idx = basename(dirname(data_path))\n",
    "        \n",
    "    data = pd.read_csv(data_path)   \n",
    "    scores = bocpd_rca(data)\n",
    "\n",
    "    with open(join(\"debug\", f\"{service_metric}_{case_idx}.json\"), \"w\") as f:\n",
    "        f.write(json.dumps(scores))"
   ]
  }
 ],
 "metadata": {
  "kernelspec": {
   "display_name": "annorxiver",
   "language": "python",
   "name": "python3"
  },
  "language_info": {
   "codemirror_mode": {
    "name": "ipython",
    "version": 3
   },
   "file_extension": ".py",
   "mimetype": "text/x-python",
   "name": "python",
   "nbconvert_exporter": "python",
   "pygments_lexer": "ipython3",
   "version": "3.10.11"
  },
  "toc": {
   "base_numbering": 1,
   "nav_menu": {},
   "number_sections": true,
   "sideBar": true,
   "skip_h1_title": false,
   "title_cell": "Table of Contents",
   "title_sidebar": "Contents",
   "toc_cell": false,
   "toc_position": {},
   "toc_section_display": true,
   "toc_window_display": false
  }
 },
 "nbformat": 4,
 "nbformat_minor": 1
}

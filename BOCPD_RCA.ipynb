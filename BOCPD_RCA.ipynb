{
 "cells": [
  {
   "cell_type": "code",
   "execution_count": 21,
   "metadata": {
    "ExecuteTime": {
     "end_time": "2021-11-26T16:06:14.135806Z",
     "start_time": "2021-11-26T16:06:13.243942Z"
    }
   },
   "outputs": [
    {
     "name": "stdout",
     "output_type": "stream",
     "text": [
      "The autoreload extension is already loaded. To reload it, use:\n",
      "  %reload_ext autoreload\n"
     ]
    }
   ],
   "source": [
    "from __future__ import division\n",
    "import matplotlib.pyplot as plt\n",
    "import bayesian_changepoint_detection.generate_data as gd\n",
    "import seaborn\n",
    "import pandas as pd\n",
    "import numpy as np\n",
    "from functools import partial\n",
    "import matplotlib.cm as cm\n",
    "import numpy as np\n",
    "import json\n",
    "import os\n",
    "import glob\n",
    "from os.path import basename,join,dirname\n",
    "from datetime import datetime\n",
    "import numpy as np\n",
    "from scipy.stats import multivariate_normal, norm\n",
    "from tqdm import tqdm\n",
    "from bayesian_changepoint_detection.priors import const_prior\n",
    "from bayesian_changepoint_detection.offline_likelihoods import IndepentFeaturesLikelihood\n",
    "import bayesian_changepoint_detection.online_likelihoods as online_ll\n",
    "from bayesian_changepoint_detection.bayesian_models import offline_changepoint_detection \n",
    "from bayesian_changepoint_detection.bayesian_models import online_changepoint_detection\n",
    "from functools import partial\n",
    "from bayesian_changepoint_detection.hazard_functions import constant_hazard\n",
    "\n",
    "%matplotlib inline\n",
    "%load_ext autoreload\n",
    "%autoreload 2\n",
    "\n",
    "def drop_time(df: pd.DataFrame):\n",
    "    if \"time\" in df:\n",
    "        df = df.drop(columns=[\"time\"])\n",
    "    elif \"Time\" in df:\n",
    "        df = df.drop(columns=[\"Time\"])\n",
    "    return df\n",
    "def drop_constant(df: pd.DataFrame):\n",
    "    return df.loc[:, (df != df.iloc[0]).any()]\n"
   ]
  },
  {
   "cell_type": "code",
   "execution_count": 34,
   "metadata": {
    "ExecuteTime": {
     "end_time": "2021-11-26T16:07:28.664794Z",
     "start_time": "2021-11-26T16:07:27.889503Z"
    }
   },
   "outputs": [],
   "source": [
    "\n",
    "\n",
    "def bocpd_rca(data):\n",
    "    sparsity = 5 \n",
    "    epsilon = 1e-7\n",
    "    \n",
    "    data = drop_constant(drop_time(data))\n",
    "    data = data.fillna(method=\"ffill\")\n",
    "    data = data.fillna(0)\n",
    "    for c in data.columns:\n",
    "        data[c] = (data[c] - np.min(data[c])) / (np.max(data[c]) - np.min(data[c]))\n",
    "    data = data.fillna(method=\"ffill\")\n",
    "    data = data.fillna(0)\n",
    "    \n",
    "    scores = []\n",
    "    for c in data.columns:\n",
    "        # take from this: https://github.com/hildensia/bayesian_changepoint_detection/blob/master/Example_Code.ipynb\n",
    "        R, maxes = online_changepoint_detection(\n",
    "            data[c],\n",
    "            partial(constant_hazard, 50),\n",
    "            online_ll.StudentT(alpha=0.1, beta=.01, kappa=1, mu=0)\n",
    "        )\n",
    "        Nw=10\n",
    "        out = R[Nw,Nw:-1].tolist()\n",
    "        for i in range(50):\n",
    "            out[i] = 0\n",
    "        scores.append((c, max(out)))\n",
    "    scores = sorted(scores, key=lambda x: x[1], reverse=True)\n",
    "    return scores\n"
   ]
  },
  {
   "cell_type": "code",
   "execution_count": 35,
   "metadata": {},
   "outputs": [
    {
     "name": "stderr",
     "output_type": "stream",
     "text": [
      "  0%|          | 0/20 [00:14<?, ?it/s]"
     ]
    },
    {
     "name": "stdout",
     "output_type": "stream",
     "text": [
      "('rabbitmq_mem', 0.9765632453095853)\n",
      "('session-db_mem', 0.9765471419343535)\n",
      "('queue-master_latency-90', 0.9765375542955795)\n",
      "('queue-master_latency-50', 0.9765375542955794)\n",
      "('front-end_mem', 0.976492471950313)\n",
      "('rabbitmq-exporter_cpu', 0.9764752271171208)\n",
      "('catalogue-db_mem', 0.9749110831314702)\n",
      "('payment_latency-90', 0.9737335871459779)\n",
      "('queue-master_cpu', 0.9730591781830812)\n",
      "('payment_mem', 0.9722799057670338)\n",
      "('user-db_cpu', 0.9567872737069681)\n",
      "('rabbitmq_cpu', 0.9558507549881565)\n",
      "('carts_mem', 0.9546535805425792)\n",
      "('carts_cpu', 0.9430564004070562)\n",
      "('session-db_cpu', 0.9412472991225469)\n",
      "('carts-db_mem', 0.9386171996773752)\n",
      "('shipping_mem', 0.9315377315854205)\n",
      "('orders_cpu', 0.9027002815553803)\n",
      "('orders_latency-50', 0.8918844711611057)\n",
      "('orders-db_cpu', 0.8712234388653033)\n",
      "('queue-master_mem', 0.8362387472585235)\n",
      "('catalogue_latency-90', 0.8177676576527084)\n",
      "('catalogue_latency-50', 0.8177676576501663)\n",
      "('shipping_cpu', 0.8102272799837239)\n",
      "('carts_latency-90', 0.8019696360107036)\n",
      "('catalogue_mem', 0.7859129567336621)\n",
      "('front-end_cpu', 0.7795874549853332)\n",
      "('catalogue_cpu', 0.7731227124817442)\n",
      "('queue-master_workload', 0.772451294694994)\n",
      "('payment_cpu', 0.7496459964157903)\n",
      "('user_cpu', 0.7306655810407179)\n",
      "('user_mem', 0.7304806782496645)\n",
      "('catalogue-db_cpu', 0.6885790871025719)\n",
      "('orders_latency-90', 0.6193682323533464)\n",
      "('front-end_latency-50', 0.6101883399083071)\n",
      "('front-end_latency-90', 0.6077706312036639)\n",
      "('shipping_latency-90', 0.5781423426905639)\n",
      "('user_latency-90', 0.5391142786097592)\n",
      "('user-db_mem', 0.5381504454760669)\n",
      "('payment_latency-50', 0.39633845999062134)\n",
      "('user_latency-50', 0.3057217618843927)\n",
      "('shipping_latency-50', 0.21598193329986703)\n",
      "('carts-db_cpu', 0.14890893158420884)\n",
      "('carts_latency-50', 0.08593832088096494)\n",
      "('shipping_workload', 0.05404633166055958)\n",
      "('orders_mem', 0.03717659911620695)\n",
      "('orders-db_mem', 0.02062406408489277)\n",
      "('orders_workload', 0.019833260012753227)\n",
      "('payment_workload', 0.01584884508217988)\n",
      "('carts_workload', 0.010915199952607037)\n",
      "('user_workload', 0.007768539733305189)\n",
      "('catalogue_workload', 0.006275694193552601)\n",
      "('front-end_workload', 0.00378629764298731)\n"
     ]
    },
    {
     "name": "stderr",
     "output_type": "stream",
     "text": [
      "\n"
     ]
    }
   ],
   "source": [
    "for data_path in tqdm(glob.glob(\"../cfm/data/fse-ss/**/1/simple_data.csv\")):\n",
    "    service_metric = basename(dirname(dirname(data_path)))\n",
    "    case_idx = basename(dirname(data_path))\n",
    "        \n",
    "    data = pd.read_csv(data_path)   \n",
    "    scores = bocpd_rca(data)\n",
    "\n",
    "    with open(join(\"debug\", f\"{service_metric}_{case_idx}.json\"), \"w\") as f:\n",
    "        f.write(json.dumps(scores))\n",
    "    \n",
    "    for i in scores:\n",
    "        print(i)\n",
    "    break"
   ]
  }
 ],
 "metadata": {
  "kernelspec": {
   "display_name": "annorxiver",
   "language": "python",
   "name": "python3"
  },
  "language_info": {
   "codemirror_mode": {
    "name": "ipython",
    "version": 3
   },
   "file_extension": ".py",
   "mimetype": "text/x-python",
   "name": "python",
   "nbconvert_exporter": "python",
   "pygments_lexer": "ipython3",
   "version": "3.10.11"
  },
  "toc": {
   "base_numbering": 1,
   "nav_menu": {},
   "number_sections": true,
   "sideBar": true,
   "skip_h1_title": false,
   "title_cell": "Table of Contents",
   "title_sidebar": "Contents",
   "toc_cell": false,
   "toc_position": {},
   "toc_section_display": true,
   "toc_window_display": false
  }
 },
 "nbformat": 4,
 "nbformat_minor": 1
}
